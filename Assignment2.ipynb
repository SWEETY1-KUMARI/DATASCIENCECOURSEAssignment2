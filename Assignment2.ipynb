{
  "nbformat": 4,
  "nbformat_minor": 0,
  "metadata": {
    "colab": {
      "provenance": []
    },
    "kernelspec": {
      "name": "python3",
      "display_name": "Python 3"
    },
    "language_info": {
      "name": "python"
    }
  },
  "cells": [
    {
      "cell_type": "markdown",
      "source": [
        "**Q1. How do you comment code in Python? What are the different types of comments?**"
      ],
      "metadata": {
        "id": "80KlCPH8xBe1"
      }
    },
    {
      "cell_type": "markdown",
      "source": [
        "Two types of comment\n",
        "\n",
        "\n",
        "1.   Single line-###single line###\n",
        "2.   multiline -''' multiline'''\n",
        "\n"
      ],
      "metadata": {
        "id": "zO47fVEJxRdL"
      }
    },
    {
      "cell_type": "code",
      "source": [
        "###sweety####\n",
        "'''1\n",
        "2\n",
        "3\n",
        "4\n",
        "'''"
      ],
      "metadata": {
        "colab": {
          "base_uri": "https://localhost:8080/",
          "height": 35
        },
        "id": "o-ZRCP5DxIKD",
        "outputId": "d9eceb18-ab83-4c3a-d617-122fcbbe0470"
      },
      "execution_count": 2,
      "outputs": [
        {
          "output_type": "execute_result",
          "data": {
            "text/plain": [
              "'1\\n2\\n3\\n4\\n'"
            ],
            "application/vnd.google.colaboratory.intrinsic+json": {
              "type": "string"
            }
          },
          "metadata": {},
          "execution_count": 2
        }
      ]
    },
    {
      "cell_type": "markdown",
      "source": [
        "**Q2. What are variables in Python? How do you declare and assign values to variables?**"
      ],
      "metadata": {
        "id": "vRaMTcjAxsq8"
      }
    },
    {
      "cell_type": "markdown",
      "source": [
        "In Python, variables are used to store data values. They act as placeholders for storing and manipulating data within a program. You can think of variables as containers that hold information.\n",
        "\n",
        "To declare a variable in Python, you simply choose a name for the variable and use the assignment operator (=) to assign a value to it. Here's the general syntax: variable_name = value"
      ],
      "metadata": {
        "id": "90UfzvYgxzTP"
      }
    },
    {
      "cell_type": "code",
      "source": [
        "p=2"
      ],
      "metadata": {
        "id": "7SahtNqJxw43"
      },
      "execution_count": 3,
      "outputs": []
    },
    {
      "cell_type": "markdown",
      "source": [
        "**Q3. How do you convert one data type to another in Python?**"
      ],
      "metadata": {
        "id": "ZnWYeC_jyGuO"
      }
    },
    {
      "cell_type": "markdown",
      "source": [
        "using typecasting"
      ],
      "metadata": {
        "id": "HCfytL96yK-X"
      }
    },
    {
      "cell_type": "code",
      "source": [
        "a=9.5\n",
        "type(a)"
      ],
      "metadata": {
        "colab": {
          "base_uri": "https://localhost:8080/"
        },
        "id": "jh5U8Rv9yF-f",
        "outputId": "ca444cbf-aa59-41c0-d525-4e2ebf474f06"
      },
      "execution_count": 4,
      "outputs": [
        {
          "output_type": "execute_result",
          "data": {
            "text/plain": [
              "float"
            ]
          },
          "metadata": {},
          "execution_count": 4
        }
      ]
    },
    {
      "cell_type": "code",
      "source": [
        "int(a)"
      ],
      "metadata": {
        "colab": {
          "base_uri": "https://localhost:8080/"
        },
        "id": "Uqiw9LiKyRu2",
        "outputId": "0e611c80-a9f3-4a07-bf37-052f1b85ed72"
      },
      "execution_count": 5,
      "outputs": [
        {
          "output_type": "execute_result",
          "data": {
            "text/plain": [
              "9"
            ]
          },
          "metadata": {},
          "execution_count": 5
        }
      ]
    },
    {
      "cell_type": "markdown",
      "source": [
        "**Q4. How do you write and execute a Python script from the command line?**"
      ],
      "metadata": {
        "id": "p2zM3pKGyWu6"
      }
    },
    {
      "cell_type": "markdown",
      "source": [
        "Write your Python code in the text editor and save the file with a .py extension. For example, we can save the file as 'script.py'.\n",
        "run the file using python script.py in the command line"
      ],
      "metadata": {
        "id": "fZXZFpk2yrjB"
      }
    },
    {
      "cell_type": "markdown",
      "source": [
        "**Q5. Given a list my_list = [1, 2, 3, 4, 5], write the code to slice the list and obtain the sub-list [2, 3].**"
      ],
      "metadata": {
        "id": "oFtJdqMqy_Rm"
      }
    },
    {
      "cell_type": "code",
      "source": [
        "my_list = [1, 2, 3, 4, 5]"
      ],
      "metadata": {
        "id": "mRBvr4ICyZfa"
      },
      "execution_count": 6,
      "outputs": []
    },
    {
      "cell_type": "code",
      "source": [
        "my_list[1:3]"
      ],
      "metadata": {
        "colab": {
          "base_uri": "https://localhost:8080/"
        },
        "id": "byLeI1NjzIDg",
        "outputId": "6a05bb47-72be-44c5-8850-9735fd8890f1"
      },
      "execution_count": 9,
      "outputs": [
        {
          "output_type": "execute_result",
          "data": {
            "text/plain": [
              "[2, 3]"
            ]
          },
          "metadata": {},
          "execution_count": 9
        }
      ]
    },
    {
      "cell_type": "markdown",
      "source": [
        "**Q6. What is a complex number in mathematics, and how is it represented in Python?**"
      ],
      "metadata": {
        "id": "evaBqHPczrqC"
      }
    },
    {
      "cell_type": "markdown",
      "source": [
        "complex number in mathematics are those which have real part and imaginary part"
      ],
      "metadata": {
        "id": "9u1uxNdhz1hf"
      }
    },
    {
      "cell_type": "code",
      "source": [
        "cplx_num = 3+7j"
      ],
      "metadata": {
        "id": "8BlNagpFzrM3"
      },
      "execution_count": 10,
      "outputs": []
    },
    {
      "cell_type": "code",
      "source": [
        "cplx_num.real"
      ],
      "metadata": {
        "colab": {
          "base_uri": "https://localhost:8080/"
        },
        "id": "qqjqCCRqz9z9",
        "outputId": "b805df1f-f18b-485e-b8b5-85256afba32e"
      },
      "execution_count": 12,
      "outputs": [
        {
          "output_type": "execute_result",
          "data": {
            "text/plain": [
              "3.0"
            ]
          },
          "metadata": {},
          "execution_count": 12
        }
      ]
    },
    {
      "cell_type": "code",
      "source": [
        "cplx_num.imag"
      ],
      "metadata": {
        "colab": {
          "base_uri": "https://localhost:8080/"
        },
        "id": "6o-2_-Uc0GRV",
        "outputId": "4308f946-709c-44e1-a82a-5126e717eadd"
      },
      "execution_count": 13,
      "outputs": [
        {
          "output_type": "execute_result",
          "data": {
            "text/plain": [
              "7.0"
            ]
          },
          "metadata": {},
          "execution_count": 13
        }
      ]
    },
    {
      "cell_type": "markdown",
      "source": [
        "**Q7. What is the correct way to declare a variable named age and assign the value 25 to it?**"
      ],
      "metadata": {
        "id": "I_CIkbLr0MrR"
      }
    },
    {
      "cell_type": "code",
      "source": [
        "age=25"
      ],
      "metadata": {
        "id": "Zu2GIdtr0O3q"
      },
      "execution_count": 14,
      "outputs": []
    },
    {
      "cell_type": "markdown",
      "source": [
        "**Q8. Declare a variable named price and assign the value 9.99 to it. What data type does this variable\n",
        "belong to?**"
      ],
      "metadata": {
        "id": "PWdYFViL0bBx"
      }
    },
    {
      "cell_type": "markdown",
      "source": [
        "float"
      ],
      "metadata": {
        "id": "OhZcJQ2Q0tnS"
      }
    },
    {
      "cell_type": "code",
      "source": [
        "price=9.99\n",
        "type(price)"
      ],
      "metadata": {
        "colab": {
          "base_uri": "https://localhost:8080/"
        },
        "id": "TSBWv8Ny0fCU",
        "outputId": "f5ddbb27-e802-4f88-d552-e057c0496752"
      },
      "execution_count": 18,
      "outputs": [
        {
          "output_type": "execute_result",
          "data": {
            "text/plain": [
              "float"
            ]
          },
          "metadata": {},
          "execution_count": 18
        }
      ]
    },
    {
      "cell_type": "markdown",
      "source": [
        "**Q9. Create a variable named name and assign your full name to it as a string. How would you print the\n",
        "value of this variable? **"
      ],
      "metadata": {
        "id": "dmTZYnfK05zJ"
      }
    },
    {
      "cell_type": "code",
      "source": [
        "name=\"sweety kumari\""
      ],
      "metadata": {
        "id": "fY4u5llX0zPc"
      },
      "execution_count": 19,
      "outputs": []
    },
    {
      "cell_type": "code",
      "source": [
        "name"
      ],
      "metadata": {
        "colab": {
          "base_uri": "https://localhost:8080/",
          "height": 35
        },
        "id": "zMNQ_oVj1C1j",
        "outputId": "2056d090-c367-446b-bfc2-75afdf3aca75"
      },
      "execution_count": 20,
      "outputs": [
        {
          "output_type": "execute_result",
          "data": {
            "text/plain": [
              "'sweety kumari'"
            ],
            "application/vnd.google.colaboratory.intrinsic+json": {
              "type": "string"
            }
          },
          "metadata": {},
          "execution_count": 20
        }
      ]
    },
    {
      "cell_type": "markdown",
      "source": [
        "**Q10. Given the string \"Hello, World!\", extract the substring \"World\".**"
      ],
      "metadata": {
        "id": "-d03ILLH1Is1"
      }
    },
    {
      "cell_type": "code",
      "source": [
        "p=\"Hello, World!\""
      ],
      "metadata": {
        "id": "O5n8Gf5E1HjX"
      },
      "execution_count": 21,
      "outputs": []
    },
    {
      "cell_type": "code",
      "source": [
        "s=p[7:12]"
      ],
      "metadata": {
        "id": "190PXJ0s1P6q"
      },
      "execution_count": 32,
      "outputs": []
    },
    {
      "cell_type": "code",
      "source": [
        "s"
      ],
      "metadata": {
        "colab": {
          "base_uri": "https://localhost:8080/",
          "height": 35
        },
        "id": "-qg4XQjO1YP_",
        "outputId": "2d34fc5a-b5d9-41bf-e134-23670d737850"
      },
      "execution_count": 33,
      "outputs": [
        {
          "output_type": "execute_result",
          "data": {
            "text/plain": [
              "'World'"
            ],
            "application/vnd.google.colaboratory.intrinsic+json": {
              "type": "string"
            }
          },
          "metadata": {},
          "execution_count": 33
        }
      ]
    },
    {
      "cell_type": "markdown",
      "source": [
        "**Q11. Create a variable named \"is_student\" and assign it a boolean value indicating whether you are\n",
        "currently a student or not.**"
      ],
      "metadata": {
        "id": "eisfhAgN11De"
      }
    },
    {
      "cell_type": "code",
      "source": [
        "is_student=True"
      ],
      "metadata": {
        "id": "axutsXP013Hs"
      },
      "execution_count": 35,
      "outputs": []
    },
    {
      "cell_type": "code",
      "source": [
        "is_student"
      ],
      "metadata": {
        "colab": {
          "base_uri": "https://localhost:8080/"
        },
        "id": "NpCu3bmg1-Sf",
        "outputId": "30387c7f-801d-45a8-f1c9-58d3e3b49e6f"
      },
      "execution_count": 36,
      "outputs": [
        {
          "output_type": "execute_result",
          "data": {
            "text/plain": [
              "True"
            ]
          },
          "metadata": {},
          "execution_count": 36
        }
      ]
    }
  ]
}